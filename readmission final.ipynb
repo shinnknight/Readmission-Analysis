{
 "cells": [
  {
   "cell_type": "code",
   "execution_count": 1,
   "metadata": {},
   "outputs": [],
   "source": [
    "import pandas as pd\n",
    "import matplotlib.pyplot as plt\n",
    "import numpy as np\n",
    "import math\n",
    "import seaborn as sns\n",
    "from sklearn.feature_extraction.text import TfidfVectorizer, CountVectorizer\n",
    "from sklearn.decomposition import TruncatedSVD\n",
    "from sklearn import preprocessing, model_selection, metrics, ensemble\n",
    "import xgboost\n",
    "from rpy2 import robjects\n",
    "from rpy2.robjects.packages import importr"
   ]
  },
  {
   "cell_type": "code",
   "execution_count": 2,
   "metadata": {},
   "outputs": [
    {
     "name": "stdout",
     "output_type": "stream",
     "text": [
      "(7000, 31)\n"
     ]
    },
    {
     "data": {
      "text/html": [
       "<div>\n",
       "<style>\n",
       "    .dataframe thead tr:only-child th {\n",
       "        text-align: right;\n",
       "    }\n",
       "\n",
       "    .dataframe thead th {\n",
       "        text-align: left;\n",
       "    }\n",
       "\n",
       "    .dataframe tbody tr th {\n",
       "        vertical-align: top;\n",
       "    }\n",
       "</style>\n",
       "<table border=\"1\" class=\"dataframe\">\n",
       "  <thead>\n",
       "    <tr style=\"text-align: right;\">\n",
       "      <th></th>\n",
       "      <th>Unnamed: 0</th>\n",
       "      <th>var_1</th>\n",
       "      <th>var_2</th>\n",
       "      <th>var_3</th>\n",
       "      <th>var_4</th>\n",
       "      <th>var_5</th>\n",
       "      <th>var_6</th>\n",
       "      <th>var_7</th>\n",
       "      <th>var_8</th>\n",
       "      <th>var_9</th>\n",
       "      <th>...</th>\n",
       "      <th>var_21</th>\n",
       "      <th>var_22</th>\n",
       "      <th>var_23</th>\n",
       "      <th>var_24</th>\n",
       "      <th>var_25</th>\n",
       "      <th>var_26</th>\n",
       "      <th>var_27</th>\n",
       "      <th>var_28</th>\n",
       "      <th>var_29</th>\n",
       "      <th>var_30</th>\n",
       "    </tr>\n",
       "  </thead>\n",
       "  <tbody>\n",
       "    <tr>\n",
       "      <th>0</th>\n",
       "      <td>1008</td>\n",
       "      <td>4.729020</td>\n",
       "      <td>-4.763238</td>\n",
       "      <td>3.152453</td>\n",
       "      <td>3.849854</td>\n",
       "      <td>-1.686269</td>\n",
       "      <td>1.803563</td>\n",
       "      <td>-1.011028</td>\n",
       "      <td>5.235854</td>\n",
       "      <td>0.078707</td>\n",
       "      <td>...</td>\n",
       "      <td>-0.206566</td>\n",
       "      <td>-3.017364</td>\n",
       "      <td>0.100627</td>\n",
       "      <td>-5.043769</td>\n",
       "      <td>-4.328545</td>\n",
       "      <td>-2.515564</td>\n",
       "      <td>1.071435</td>\n",
       "      <td>NaN</td>\n",
       "      <td>-1.532348</td>\n",
       "      <td>7.612177</td>\n",
       "    </tr>\n",
       "    <tr>\n",
       "      <th>1</th>\n",
       "      <td>457</td>\n",
       "      <td>-2.074585</td>\n",
       "      <td>-0.893494</td>\n",
       "      <td>-4.825374</td>\n",
       "      <td>-0.045441</td>\n",
       "      <td>-1.412200</td>\n",
       "      <td>-0.792178</td>\n",
       "      <td>12.891808</td>\n",
       "      <td>-0.437113</td>\n",
       "      <td>1.974013</td>\n",
       "      <td>...</td>\n",
       "      <td>-3.247306</td>\n",
       "      <td>-0.607909</td>\n",
       "      <td>0.934786</td>\n",
       "      <td>2.048250</td>\n",
       "      <td>-3.291287</td>\n",
       "      <td>-4.474237</td>\n",
       "      <td>-1.852684</td>\n",
       "      <td>-0.647271</td>\n",
       "      <td>1.933715</td>\n",
       "      <td>6.743767</td>\n",
       "    </tr>\n",
       "    <tr>\n",
       "      <th>2</th>\n",
       "      <td>9418</td>\n",
       "      <td>3.405343</td>\n",
       "      <td>-10.180811</td>\n",
       "      <td>13.226674</td>\n",
       "      <td>0.242301</td>\n",
       "      <td>-1.680327</td>\n",
       "      <td>-5.147499</td>\n",
       "      <td>5.165124</td>\n",
       "      <td>0.975629</td>\n",
       "      <td>-1.655868</td>\n",
       "      <td>...</td>\n",
       "      <td>-4.625598</td>\n",
       "      <td>-0.601352</td>\n",
       "      <td>2.263456</td>\n",
       "      <td>-1.776906</td>\n",
       "      <td>2.085919</td>\n",
       "      <td>0.120775</td>\n",
       "      <td>-0.562126</td>\n",
       "      <td>9.281172</td>\n",
       "      <td>-0.771394</td>\n",
       "      <td>8.959550</td>\n",
       "    </tr>\n",
       "    <tr>\n",
       "      <th>3</th>\n",
       "      <td>5806</td>\n",
       "      <td>0.233864</td>\n",
       "      <td>4.741409</td>\n",
       "      <td>-6.058595</td>\n",
       "      <td>1.594381</td>\n",
       "      <td>-11.065064</td>\n",
       "      <td>-1.465649</td>\n",
       "      <td>14.773861</td>\n",
       "      <td>-1.023738</td>\n",
       "      <td>-4.474225</td>\n",
       "      <td>...</td>\n",
       "      <td>3.804605</td>\n",
       "      <td>1.722175</td>\n",
       "      <td>1.574733</td>\n",
       "      <td>6.490636</td>\n",
       "      <td>NaN</td>\n",
       "      <td>-1.069777</td>\n",
       "      <td>-4.449111</td>\n",
       "      <td>1.339648</td>\n",
       "      <td>-3.084460</td>\n",
       "      <td>17.890620</td>\n",
       "    </tr>\n",
       "    <tr>\n",
       "      <th>4</th>\n",
       "      <td>8477</td>\n",
       "      <td>1.124928</td>\n",
       "      <td>-0.111385</td>\n",
       "      <td>-0.516032</td>\n",
       "      <td>0.897626</td>\n",
       "      <td>0.333594</td>\n",
       "      <td>1.955230</td>\n",
       "      <td>-1.777731</td>\n",
       "      <td>-0.049689</td>\n",
       "      <td>2.006230</td>\n",
       "      <td>...</td>\n",
       "      <td>1.697115</td>\n",
       "      <td>0.324282</td>\n",
       "      <td>-4.676433</td>\n",
       "      <td>NaN</td>\n",
       "      <td>-1.452437</td>\n",
       "      <td>-1.899861</td>\n",
       "      <td>3.184326</td>\n",
       "      <td>2.357291</td>\n",
       "      <td>0.813180</td>\n",
       "      <td>-4.243998</td>\n",
       "    </tr>\n",
       "  </tbody>\n",
       "</table>\n",
       "<p>5 rows × 31 columns</p>\n",
       "</div>"
      ],
      "text/plain": [
       "   Unnamed: 0     var_1      var_2      var_3     var_4      var_5     var_6  \\\n",
       "0        1008  4.729020  -4.763238   3.152453  3.849854  -1.686269  1.803563   \n",
       "1         457 -2.074585  -0.893494  -4.825374 -0.045441  -1.412200 -0.792178   \n",
       "2        9418  3.405343 -10.180811  13.226674  0.242301  -1.680327 -5.147499   \n",
       "3        5806  0.233864   4.741409  -6.058595  1.594381 -11.065064 -1.465649   \n",
       "4        8477  1.124928  -0.111385  -0.516032  0.897626   0.333594  1.955230   \n",
       "\n",
       "       var_7     var_8     var_9    ...        var_21    var_22    var_23  \\\n",
       "0  -1.011028  5.235854  0.078707    ...     -0.206566 -3.017364  0.100627   \n",
       "1  12.891808 -0.437113  1.974013    ...     -3.247306 -0.607909  0.934786   \n",
       "2   5.165124  0.975629 -1.655868    ...     -4.625598 -0.601352  2.263456   \n",
       "3  14.773861 -1.023738 -4.474225    ...      3.804605  1.722175  1.574733   \n",
       "4  -1.777731 -0.049689  2.006230    ...      1.697115  0.324282 -4.676433   \n",
       "\n",
       "     var_24    var_25    var_26    var_27    var_28    var_29     var_30  \n",
       "0 -5.043769 -4.328545 -2.515564  1.071435       NaN -1.532348   7.612177  \n",
       "1  2.048250 -3.291287 -4.474237 -1.852684 -0.647271  1.933715   6.743767  \n",
       "2 -1.776906  2.085919  0.120775 -0.562126  9.281172 -0.771394   8.959550  \n",
       "3  6.490636       NaN -1.069777 -4.449111  1.339648 -3.084460  17.890620  \n",
       "4       NaN -1.452437 -1.899861  3.184326  2.357291  0.813180  -4.243998  \n",
       "\n",
       "[5 rows x 31 columns]"
      ]
     },
     "execution_count": 2,
     "metadata": {},
     "output_type": "execute_result"
    }
   ],
   "source": [
    "import os\n",
    "os.chdir('/Users/tinggao/Documents/CU course/machine learning/readmission analysis')\n",
    "data_train = pd.read_csv(\"./feature_train.csv\")\n",
    "print(data_train.shape)\n",
    "data_train.head()"
   ]
  },
  {
   "cell_type": "code",
   "execution_count": 3,
   "metadata": {},
   "outputs": [],
   "source": [
    "# The train dataset contains 7000 rows and 31 columns, which consisted with 1 index column and 30 variables."
   ]
  },
  {
   "cell_type": "code",
   "execution_count": 4,
   "metadata": {},
   "outputs": [
    {
     "name": "stdout",
     "output_type": "stream",
     "text": [
      "(7000, 2)\n"
     ]
    },
    {
     "data": {
      "text/html": [
       "<div>\n",
       "<style>\n",
       "    .dataframe thead tr:only-child th {\n",
       "        text-align: right;\n",
       "    }\n",
       "\n",
       "    .dataframe thead th {\n",
       "        text-align: left;\n",
       "    }\n",
       "\n",
       "    .dataframe tbody tr th {\n",
       "        vertical-align: top;\n",
       "    }\n",
       "</style>\n",
       "<table border=\"1\" class=\"dataframe\">\n",
       "  <thead>\n",
       "    <tr style=\"text-align: right;\">\n",
       "      <th></th>\n",
       "      <th>Unnamed: 0</th>\n",
       "      <th>target</th>\n",
       "    </tr>\n",
       "  </thead>\n",
       "  <tbody>\n",
       "    <tr>\n",
       "      <th>0</th>\n",
       "      <td>1008</td>\n",
       "      <td>0</td>\n",
       "    </tr>\n",
       "    <tr>\n",
       "      <th>1</th>\n",
       "      <td>457</td>\n",
       "      <td>1</td>\n",
       "    </tr>\n",
       "    <tr>\n",
       "      <th>2</th>\n",
       "      <td>9418</td>\n",
       "      <td>0</td>\n",
       "    </tr>\n",
       "    <tr>\n",
       "      <th>3</th>\n",
       "      <td>5806</td>\n",
       "      <td>0</td>\n",
       "    </tr>\n",
       "    <tr>\n",
       "      <th>4</th>\n",
       "      <td>8477</td>\n",
       "      <td>0</td>\n",
       "    </tr>\n",
       "  </tbody>\n",
       "</table>\n",
       "</div>"
      ],
      "text/plain": [
       "   Unnamed: 0  target\n",
       "0        1008       0\n",
       "1         457       1\n",
       "2        9418       0\n",
       "3        5806       0\n",
       "4        8477       0"
      ]
     },
     "execution_count": 4,
     "metadata": {},
     "output_type": "execute_result"
    }
   ],
   "source": [
    "data_test = pd.read_csv(\"./target_train.csv\")\n",
    "print(data_test.shape)\n",
    "data_test.head()"
   ]
  },
  {
   "cell_type": "code",
   "execution_count": 5,
   "metadata": {},
   "outputs": [],
   "source": [
    "# The test dataset has the same rows and one target column, which is what we want to predict"
   ]
  },
  {
   "cell_type": "code",
   "execution_count": 6,
   "metadata": {},
   "outputs": [
    {
     "data": {
      "text/plain": [
       "0"
      ]
     },
     "execution_count": 6,
     "metadata": {},
     "output_type": "execute_result"
    }
   ],
   "source": [
    "# Here, we want to make sure if the indice of train dataset and test dataset are pairing\n",
    "sum(data_train.iloc[:,0] != data_test.iloc[:,0])"
   ]
  },
  {
   "cell_type": "code",
   "execution_count": 7,
   "metadata": {},
   "outputs": [],
   "source": [
    "# Well, the result indicates that all indice are correctly pairing."
   ]
  },
  {
   "cell_type": "markdown",
   "metadata": {},
   "source": [
    "# Question 1 (5 points)\n",
    "#Create a single data set by joining feature_train and target_train data sets. This is simply a\n",
    "#preparatory step. This would help you creating the training/test splits."
   ]
  },
  {
   "cell_type": "code",
   "execution_count": 8,
   "metadata": {},
   "outputs": [],
   "source": [
    "data = pd.merge(data_train, data_test, how='left', on= data_train.columns[0])"
   ]
  },
  {
   "cell_type": "code",
   "execution_count": 9,
   "metadata": {},
   "outputs": [
    {
     "name": "stdout",
     "output_type": "stream",
     "text": [
      "(7000, 31)\n"
     ]
    },
    {
     "data": {
      "text/html": [
       "<div>\n",
       "<style>\n",
       "    .dataframe thead tr:only-child th {\n",
       "        text-align: right;\n",
       "    }\n",
       "\n",
       "    .dataframe thead th {\n",
       "        text-align: left;\n",
       "    }\n",
       "\n",
       "    .dataframe tbody tr th {\n",
       "        vertical-align: top;\n",
       "    }\n",
       "</style>\n",
       "<table border=\"1\" class=\"dataframe\">\n",
       "  <thead>\n",
       "    <tr style=\"text-align: right;\">\n",
       "      <th></th>\n",
       "      <th>var_1</th>\n",
       "      <th>var_2</th>\n",
       "      <th>var_3</th>\n",
       "      <th>var_4</th>\n",
       "      <th>var_5</th>\n",
       "      <th>var_6</th>\n",
       "      <th>var_7</th>\n",
       "      <th>var_8</th>\n",
       "      <th>var_9</th>\n",
       "      <th>var_10</th>\n",
       "      <th>...</th>\n",
       "      <th>var_22</th>\n",
       "      <th>var_23</th>\n",
       "      <th>var_24</th>\n",
       "      <th>var_25</th>\n",
       "      <th>var_26</th>\n",
       "      <th>var_27</th>\n",
       "      <th>var_28</th>\n",
       "      <th>var_29</th>\n",
       "      <th>var_30</th>\n",
       "      <th>target</th>\n",
       "    </tr>\n",
       "  </thead>\n",
       "  <tbody>\n",
       "    <tr>\n",
       "      <th>0</th>\n",
       "      <td>4.729020</td>\n",
       "      <td>-4.763238</td>\n",
       "      <td>3.152453</td>\n",
       "      <td>3.849854</td>\n",
       "      <td>-1.686269</td>\n",
       "      <td>1.803563</td>\n",
       "      <td>-1.011028</td>\n",
       "      <td>5.235854</td>\n",
       "      <td>0.078707</td>\n",
       "      <td>-1.278632</td>\n",
       "      <td>...</td>\n",
       "      <td>-3.017364</td>\n",
       "      <td>0.100627</td>\n",
       "      <td>-5.043769</td>\n",
       "      <td>-4.328545</td>\n",
       "      <td>-2.515564</td>\n",
       "      <td>1.071435</td>\n",
       "      <td>NaN</td>\n",
       "      <td>-1.532348</td>\n",
       "      <td>7.612177</td>\n",
       "      <td>0</td>\n",
       "    </tr>\n",
       "    <tr>\n",
       "      <th>1</th>\n",
       "      <td>-2.074585</td>\n",
       "      <td>-0.893494</td>\n",
       "      <td>-4.825374</td>\n",
       "      <td>-0.045441</td>\n",
       "      <td>-1.412200</td>\n",
       "      <td>-0.792178</td>\n",
       "      <td>12.891808</td>\n",
       "      <td>-0.437113</td>\n",
       "      <td>1.974013</td>\n",
       "      <td>-0.188423</td>\n",
       "      <td>...</td>\n",
       "      <td>-0.607909</td>\n",
       "      <td>0.934786</td>\n",
       "      <td>2.048250</td>\n",
       "      <td>-3.291287</td>\n",
       "      <td>-4.474237</td>\n",
       "      <td>-1.852684</td>\n",
       "      <td>-0.647271</td>\n",
       "      <td>1.933715</td>\n",
       "      <td>6.743767</td>\n",
       "      <td>1</td>\n",
       "    </tr>\n",
       "    <tr>\n",
       "      <th>2</th>\n",
       "      <td>3.405343</td>\n",
       "      <td>-10.180811</td>\n",
       "      <td>13.226674</td>\n",
       "      <td>0.242301</td>\n",
       "      <td>-1.680327</td>\n",
       "      <td>-5.147499</td>\n",
       "      <td>5.165124</td>\n",
       "      <td>0.975629</td>\n",
       "      <td>-1.655868</td>\n",
       "      <td>-6.032812</td>\n",
       "      <td>...</td>\n",
       "      <td>-0.601352</td>\n",
       "      <td>2.263456</td>\n",
       "      <td>-1.776906</td>\n",
       "      <td>2.085919</td>\n",
       "      <td>0.120775</td>\n",
       "      <td>-0.562126</td>\n",
       "      <td>9.281172</td>\n",
       "      <td>-0.771394</td>\n",
       "      <td>8.959550</td>\n",
       "      <td>0</td>\n",
       "    </tr>\n",
       "    <tr>\n",
       "      <th>3</th>\n",
       "      <td>0.233864</td>\n",
       "      <td>4.741409</td>\n",
       "      <td>-6.058595</td>\n",
       "      <td>1.594381</td>\n",
       "      <td>-11.065064</td>\n",
       "      <td>-1.465649</td>\n",
       "      <td>14.773861</td>\n",
       "      <td>-1.023738</td>\n",
       "      <td>-4.474225</td>\n",
       "      <td>8.754289</td>\n",
       "      <td>...</td>\n",
       "      <td>1.722175</td>\n",
       "      <td>1.574733</td>\n",
       "      <td>6.490636</td>\n",
       "      <td>NaN</td>\n",
       "      <td>-1.069777</td>\n",
       "      <td>-4.449111</td>\n",
       "      <td>1.339648</td>\n",
       "      <td>-3.084460</td>\n",
       "      <td>17.890620</td>\n",
       "      <td>0</td>\n",
       "    </tr>\n",
       "    <tr>\n",
       "      <th>4</th>\n",
       "      <td>1.124928</td>\n",
       "      <td>-0.111385</td>\n",
       "      <td>-0.516032</td>\n",
       "      <td>0.897626</td>\n",
       "      <td>0.333594</td>\n",
       "      <td>1.955230</td>\n",
       "      <td>-1.777731</td>\n",
       "      <td>-0.049689</td>\n",
       "      <td>2.006230</td>\n",
       "      <td>-1.393705</td>\n",
       "      <td>...</td>\n",
       "      <td>0.324282</td>\n",
       "      <td>-4.676433</td>\n",
       "      <td>NaN</td>\n",
       "      <td>-1.452437</td>\n",
       "      <td>-1.899861</td>\n",
       "      <td>3.184326</td>\n",
       "      <td>2.357291</td>\n",
       "      <td>0.813180</td>\n",
       "      <td>-4.243998</td>\n",
       "      <td>0</td>\n",
       "    </tr>\n",
       "  </tbody>\n",
       "</table>\n",
       "<p>5 rows × 31 columns</p>\n",
       "</div>"
      ],
      "text/plain": [
       "      var_1      var_2      var_3     var_4      var_5     var_6      var_7  \\\n",
       "0  4.729020  -4.763238   3.152453  3.849854  -1.686269  1.803563  -1.011028   \n",
       "1 -2.074585  -0.893494  -4.825374 -0.045441  -1.412200 -0.792178  12.891808   \n",
       "2  3.405343 -10.180811  13.226674  0.242301  -1.680327 -5.147499   5.165124   \n",
       "3  0.233864   4.741409  -6.058595  1.594381 -11.065064 -1.465649  14.773861   \n",
       "4  1.124928  -0.111385  -0.516032  0.897626   0.333594  1.955230  -1.777731   \n",
       "\n",
       "      var_8     var_9    var_10   ...      var_22    var_23    var_24  \\\n",
       "0  5.235854  0.078707 -1.278632   ...   -3.017364  0.100627 -5.043769   \n",
       "1 -0.437113  1.974013 -0.188423   ...   -0.607909  0.934786  2.048250   \n",
       "2  0.975629 -1.655868 -6.032812   ...   -0.601352  2.263456 -1.776906   \n",
       "3 -1.023738 -4.474225  8.754289   ...    1.722175  1.574733  6.490636   \n",
       "4 -0.049689  2.006230 -1.393705   ...    0.324282 -4.676433       NaN   \n",
       "\n",
       "     var_25    var_26    var_27    var_28    var_29     var_30  target  \n",
       "0 -4.328545 -2.515564  1.071435       NaN -1.532348   7.612177       0  \n",
       "1 -3.291287 -4.474237 -1.852684 -0.647271  1.933715   6.743767       1  \n",
       "2  2.085919  0.120775 -0.562126  9.281172 -0.771394   8.959550       0  \n",
       "3       NaN -1.069777 -4.449111  1.339648 -3.084460  17.890620       0  \n",
       "4 -1.452437 -1.899861  3.184326  2.357291  0.813180  -4.243998       0  \n",
       "\n",
       "[5 rows x 31 columns]"
      ]
     },
     "execution_count": 9,
     "metadata": {},
     "output_type": "execute_result"
    }
   ],
   "source": [
    "data.drop(data.columns[0],axis=1,inplace=True)\n",
    "print(data.shape)\n",
    "data.head()"
   ]
  },
  {
   "cell_type": "markdown",
   "metadata": {},
   "source": [
    "# Question 2 (15 points)"
   ]
  },
  {
   "cell_type": "code",
   "execution_count": 10,
   "metadata": {
    "scrolled": false
   },
   "outputs": [
    {
     "data": {
      "image/png": "[encoded data removed]",
      "text/plain": [
       "<Figure size 1152x360 with 1 Axes>"
      ]
     },
     "metadata": {},
     "output_type": "display_data"
    },
    {
     "data": {
      "image/png": "[encoded data removed]",
      "text/plain": [
       "<Figure size 2880x360 with 1 Axes>"
      ]
     },
     "metadata": {},
     "output_type": "display_data"
    },
    {
     "data": {
      "image/png": "[encoded data removed]",
      "text/plain": [
       "<Figure size 792x648 with 2 Axes>"
      ]
     },
     "metadata": {},
     "output_type": "display_data"
    }
   ],
   "source": [
    "plt.close('all')\n",
    "# missing value detection\n",
    "plt.figure(figsize=(16,5))\n",
    "plt.subplot(121)\n",
    "miss_arr = pd.DataFrame(columns=['miss_rate'])\n",
    "row_num = data.shape[0]\n",
    "for i in range(data.shape[1]-1):    \n",
    "    miss_rate = sum(~data[data.columns[i]].notnull())/row_num\n",
    "    miss_arr.loc[i+1,'miss_rate']=miss_rate\n",
    "plt.bar(miss_arr.index,miss_arr['miss_rate'], alpha=0.9, width = 0.6, facecolor = 'lightskyblue',\n",
    "        edgecolor = 'white', label='one', lw=1)\n",
    "plt.title('miss value rate')\n",
    "plt.grid()\n",
    "\n",
    "# Boxplot -- Outlier detection\n",
    "plt.figure(figsize=(40,5))\n",
    "plt.subplot(122)\n",
    "data.iloc[:,:30].boxplot()\n",
    "plt.ylabel(\"ylabel\")\n",
    "plt.xlabel(\"variables\")\n",
    "t = plt.title('Outlier Detection')\n",
    "\n",
    "# correlation Matrix\n",
    "sns.set(style=\"white\")\n",
    "corr = data.corr()\n",
    "\n",
    "# Generate a mask for the upper triangle\n",
    "mask = np.zeros_like(corr, dtype=np.bool)\n",
    "mask[np.triu_indices_from(mask)] = True\n",
    "\n",
    "# Set up the matplotlib figure\n",
    "f, ax = plt.subplots(figsize=(11, 9))\n",
    "\n",
    "# Generate a custom diverging colormap\n",
    "cmap = sns.diverging_palette(220, 10, as_cmap=True)\n",
    "\n",
    "# Draw the heatmap with the mask and correct aspect ratio\n",
    "sns.heatmap(corr, mask=mask, cmap=cmap, vmax=.3, center=0,\n",
    "            square=True, linewidths=.5, cbar_kws={\"shrink\": .5})\n",
    "plt.show()"
   ]
  },
  {
   "cell_type": "markdown",
   "metadata": {},
   "source": [
    "#### Based on the graphies shown above, we could find that Variable 21-30 has missing values, \n",
    "#### and the missing rate is about 10%. Also, we could find that Var 2, 3, 5, 7, 14, 18, 28 ,30 have outliers.\n",
    "#### Last correlation matrix shows that there are some variables has some correlations, like var 14&15, 14&20, 2&5, 3&6 and etc."
   ]
  },
  {
   "cell_type": "markdown",
   "metadata": {},
   "source": [
    "# Question 3 (25 points)"
   ]
  },
  {
   "cell_type": "markdown",
   "metadata": {},
   "source": [
    "Impute missing values as appropriate."
   ]
  },
  {
   "cell_type": "code",
   "execution_count": 11,
   "metadata": {},
   "outputs": [],
   "source": [
    "# Scenario 1\n",
    "# Impute the missing values with mean or median."
   ]
  },
  {
   "cell_type": "code",
   "execution_count": 12,
   "metadata": {
    "scrolled": true
   },
   "outputs": [],
   "source": [
    "# Impute the missing values with mean\n",
    "data_mean = data.copy()\n",
    "for i in data_mean.columns:\n",
    "    data_mean[i] = data_mean[i].fillna(data_mean[i].mean())"
   ]
  },
  {
   "cell_type": "code",
   "execution_count": 13,
   "metadata": {},
   "outputs": [
    {
     "data": {
      "text/plain": [
       "0"
      ]
     },
     "execution_count": 13,
     "metadata": {},
     "output_type": "execute_result"
    }
   ],
   "source": [
    "data_mean.isnull().sum().sum()"
   ]
  },
  {
   "cell_type": "code",
   "execution_count": 14,
   "metadata": {},
   "outputs": [],
   "source": [
    "# Impute the missing values with median\n",
    "data_median = data.copy()\n",
    "for i in data_median.columns:\n",
    "    data_median[i] = data_median[i].fillna(data_median[i].median())"
   ]
  },
  {
   "cell_type": "code",
   "execution_count": 15,
   "metadata": {},
   "outputs": [
    {
     "data": {
      "text/plain": [
       "0"
      ]
     },
     "execution_count": 15,
     "metadata": {},
     "output_type": "execute_result"
    }
   ],
   "source": [
    "data_median.isnull().sum().sum()"
   ]
  },
  {
   "cell_type": "markdown",
   "metadata": {},
   "source": [
    " Question 3.2 (20 points)"
   ]
  },
  {
   "cell_type": "code",
   "execution_count": 16,
   "metadata": {},
   "outputs": [],
   "source": [
    "#Scenario 2\n",
    "#Perform variable selection (after imputing) to identify the best set of predictors"
   ]
  },
  {
   "cell_type": "code",
   "execution_count": 17,
   "metadata": {},
   "outputs": [
    {
     "data": {
      "text/html": [
       "<div>\n",
       "<style>\n",
       "    .dataframe thead tr:only-child th {\n",
       "        text-align: right;\n",
       "    }\n",
       "\n",
       "    .dataframe thead th {\n",
       "        text-align: left;\n",
       "    }\n",
       "\n",
       "    .dataframe tbody tr th {\n",
       "        vertical-align: top;\n",
       "    }\n",
       "</style>\n",
       "<table border=\"1\" class=\"dataframe\">\n",
       "  <thead>\n",
       "    <tr style=\"text-align: right;\">\n",
       "      <th></th>\n",
       "      <th>var_1</th>\n",
       "      <th>var_2</th>\n",
       "      <th>var_3</th>\n",
       "      <th>var_4</th>\n",
       "      <th>var_5</th>\n",
       "      <th>var_6</th>\n",
       "      <th>var_7</th>\n",
       "      <th>var_8</th>\n",
       "      <th>var_9</th>\n",
       "      <th>var_10</th>\n",
       "      <th>...</th>\n",
       "      <th>var_22</th>\n",
       "      <th>var_23</th>\n",
       "      <th>var_24</th>\n",
       "      <th>var_25</th>\n",
       "      <th>var_26</th>\n",
       "      <th>var_27</th>\n",
       "      <th>var_28</th>\n",
       "      <th>var_29</th>\n",
       "      <th>var_30</th>\n",
       "      <th>target</th>\n",
       "    </tr>\n",
       "  </thead>\n",
       "  <tbody>\n",
       "    <tr>\n",
       "      <th>0</th>\n",
       "      <td>4.729020</td>\n",
       "      <td>-4.763238</td>\n",
       "      <td>3.152453</td>\n",
       "      <td>3.849854</td>\n",
       "      <td>-1.686269</td>\n",
       "      <td>1.803563</td>\n",
       "      <td>-1.011028</td>\n",
       "      <td>5.235854</td>\n",
       "      <td>0.078707</td>\n",
       "      <td>-1.278632</td>\n",
       "      <td>...</td>\n",
       "      <td>-3.017364</td>\n",
       "      <td>0.100627</td>\n",
       "      <td>-5.043769</td>\n",
       "      <td>-4.328545</td>\n",
       "      <td>-2.515564</td>\n",
       "      <td>1.071435</td>\n",
       "      <td>0.145750</td>\n",
       "      <td>-1.532348</td>\n",
       "      <td>7.612177</td>\n",
       "      <td>0</td>\n",
       "    </tr>\n",
       "    <tr>\n",
       "      <th>1</th>\n",
       "      <td>-2.074585</td>\n",
       "      <td>-0.893494</td>\n",
       "      <td>-4.825374</td>\n",
       "      <td>-0.045441</td>\n",
       "      <td>-1.412200</td>\n",
       "      <td>-0.792178</td>\n",
       "      <td>12.891808</td>\n",
       "      <td>-0.437113</td>\n",
       "      <td>1.974013</td>\n",
       "      <td>-0.188423</td>\n",
       "      <td>...</td>\n",
       "      <td>-0.607909</td>\n",
       "      <td>0.934786</td>\n",
       "      <td>2.048250</td>\n",
       "      <td>-3.291287</td>\n",
       "      <td>-4.474237</td>\n",
       "      <td>-1.852684</td>\n",
       "      <td>-0.647271</td>\n",
       "      <td>1.933715</td>\n",
       "      <td>6.743767</td>\n",
       "      <td>1</td>\n",
       "    </tr>\n",
       "    <tr>\n",
       "      <th>2</th>\n",
       "      <td>3.405343</td>\n",
       "      <td>-10.180811</td>\n",
       "      <td>13.226674</td>\n",
       "      <td>0.242301</td>\n",
       "      <td>-1.680327</td>\n",
       "      <td>-5.147499</td>\n",
       "      <td>5.165124</td>\n",
       "      <td>0.975629</td>\n",
       "      <td>-1.655868</td>\n",
       "      <td>-6.032812</td>\n",
       "      <td>...</td>\n",
       "      <td>-0.601352</td>\n",
       "      <td>2.263456</td>\n",
       "      <td>-1.776906</td>\n",
       "      <td>2.085919</td>\n",
       "      <td>0.120775</td>\n",
       "      <td>-0.562126</td>\n",
       "      <td>9.281172</td>\n",
       "      <td>-0.771394</td>\n",
       "      <td>8.959550</td>\n",
       "      <td>0</td>\n",
       "    </tr>\n",
       "    <tr>\n",
       "      <th>3</th>\n",
       "      <td>0.233864</td>\n",
       "      <td>4.741409</td>\n",
       "      <td>-6.058595</td>\n",
       "      <td>1.594381</td>\n",
       "      <td>-11.065064</td>\n",
       "      <td>-1.465649</td>\n",
       "      <td>14.773861</td>\n",
       "      <td>-1.023738</td>\n",
       "      <td>-4.474225</td>\n",
       "      <td>8.754289</td>\n",
       "      <td>...</td>\n",
       "      <td>1.722175</td>\n",
       "      <td>1.574733</td>\n",
       "      <td>6.490636</td>\n",
       "      <td>-0.833055</td>\n",
       "      <td>-1.069777</td>\n",
       "      <td>-4.449111</td>\n",
       "      <td>1.339648</td>\n",
       "      <td>-3.084460</td>\n",
       "      <td>17.890620</td>\n",
       "      <td>0</td>\n",
       "    </tr>\n",
       "    <tr>\n",
       "      <th>4</th>\n",
       "      <td>1.124928</td>\n",
       "      <td>-0.111385</td>\n",
       "      <td>-0.516032</td>\n",
       "      <td>0.897626</td>\n",
       "      <td>0.333594</td>\n",
       "      <td>1.955230</td>\n",
       "      <td>-1.777731</td>\n",
       "      <td>-0.049689</td>\n",
       "      <td>2.006230</td>\n",
       "      <td>-1.393705</td>\n",
       "      <td>...</td>\n",
       "      <td>0.324282</td>\n",
       "      <td>-4.676433</td>\n",
       "      <td>-0.846612</td>\n",
       "      <td>-1.452437</td>\n",
       "      <td>-1.899861</td>\n",
       "      <td>3.184326</td>\n",
       "      <td>2.357291</td>\n",
       "      <td>0.813180</td>\n",
       "      <td>-4.243998</td>\n",
       "      <td>0</td>\n",
       "    </tr>\n",
       "  </tbody>\n",
       "</table>\n",
       "<p>5 rows × 31 columns</p>\n",
       "</div>"
      ],
      "text/plain": [
       "      var_1      var_2      var_3     var_4      var_5     var_6      var_7  \\\n",
       "0  4.729020  -4.763238   3.152453  3.849854  -1.686269  1.803563  -1.011028   \n",
       "1 -2.074585  -0.893494  -4.825374 -0.045441  -1.412200 -0.792178  12.891808   \n",
       "2  3.405343 -10.180811  13.226674  0.242301  -1.680327 -5.147499   5.165124   \n",
       "3  0.233864   4.741409  -6.058595  1.594381 -11.065064 -1.465649  14.773861   \n",
       "4  1.124928  -0.111385  -0.516032  0.897626   0.333594  1.955230  -1.777731   \n",
       "\n",
       "      var_8     var_9    var_10   ...      var_22    var_23    var_24  \\\n",
       "0  5.235854  0.078707 -1.278632   ...   -3.017364  0.100627 -5.043769   \n",
       "1 -0.437113  1.974013 -0.188423   ...   -0.607909  0.934786  2.048250   \n",
       "2  0.975629 -1.655868 -6.032812   ...   -0.601352  2.263456 -1.776906   \n",
       "3 -1.023738 -4.474225  8.754289   ...    1.722175  1.574733  6.490636   \n",
       "4 -0.049689  2.006230 -1.393705   ...    0.324282 -4.676433 -0.846612   \n",
       "\n",
       "     var_25    var_26    var_27    var_28    var_29     var_30  target  \n",
       "0 -4.328545 -2.515564  1.071435  0.145750 -1.532348   7.612177       0  \n",
       "1 -3.291287 -4.474237 -1.852684 -0.647271  1.933715   6.743767       1  \n",
       "2  2.085919  0.120775 -0.562126  9.281172 -0.771394   8.959550       0  \n",
       "3 -0.833055 -1.069777 -4.449111  1.339648 -3.084460  17.890620       0  \n",
       "4 -1.452437 -1.899861  3.184326  2.357291  0.813180  -4.243998       0  \n",
       "\n",
       "[5 rows x 31 columns]"
      ]
     },
     "execution_count": 17,
     "metadata": {},
     "output_type": "execute_result"
    }
   ],
   "source": [
    "# use data_mean\n",
    "data_mean.head()"
   ]
  },
  {
   "cell_type": "code",
   "execution_count": 18,
   "metadata": {},
   "outputs": [],
   "source": [
    "# We use logistic regression as model type and data_mean as training dataset\n",
    "# First, let's select 3 most important variables in the dataset"
   ]
  },
  {
   "cell_type": "code",
   "execution_count": 19,
   "metadata": {},
   "outputs": [
    {
     "name": "stdout",
     "output_type": "stream",
     "text": [
      "[ True  True False False False  True False False  True False False  True\n",
      "  True  True  True  True  True False  True False False False False False\n",
      " False False False False  True False]\n",
      "[ 1  1  4 12  6  1 11  7  1 10  3  1  1  1  1  1  1  9  1  2  5 15 19  8\n",
      " 16 13 17 18  1 14]\n"
     ]
    }
   ],
   "source": [
    "# Recursive Feature Elimination\n",
    "from sklearn.feature_selection import RFE\n",
    "from sklearn.linear_model import LogisticRegression\n",
    "# load the iris datasets\n",
    "# create a base classifier used to evaluate a subset of attributes\n",
    "model_log = LogisticRegression()\n",
    "# create the RFE model and select 3 attributes\n",
    "rfe = RFE(model_log, 12)\n",
    "rfe = rfe.fit(data_mean.iloc[:,:data_mean.shape[1]-1], data_mean['target'])\n",
    "# summarize the selection of the attributes\n",
    "print(rfe.support_)\n",
    "print(rfe.ranking_)"
   ]
  },
  {
   "cell_type": "code",
   "execution_count": 20,
   "metadata": {},
   "outputs": [
    {
     "name": "stdout",
     "output_type": "stream",
     "text": [
      "['var_1', 'var_2', 'var_6', 'var_9', 'var_12', 'var_13', 'var_14', 'var_15', 'var_16', 'var_17', 'var_19', 'var_29']\n"
     ]
    }
   ],
   "source": [
    "best_subset_1 = data_mean.columns[np.where(rfe.support_ == True)].tolist()\n",
    "print(best_subset_1)"
   ]
  },
  {
   "cell_type": "code",
   "execution_count": 21,
   "metadata": {},
   "outputs": [],
   "source": [
    "# Here, the most important variable seems to be variable 1, 6, 13, 15, 16, 19."
   ]
  },
  {
   "cell_type": "code",
   "execution_count": 22,
   "metadata": {},
   "outputs": [
    {
     "name": "stdout",
     "output_type": "stream",
     "text": [
      "[0.03156445 0.02508885 0.02793858 0.06859558 0.02745109 0.02687787\n",
      " 0.03500908 0.06142695 0.0351292  0.03691603 0.0300679  0.02293501\n",
      " 0.04536258 0.02682621 0.02614497 0.02701873 0.04952841 0.05931634\n",
      " 0.02654858 0.02813801 0.02401507 0.03028481 0.02613121 0.03217399\n",
      " 0.02747609 0.02579836 0.02541172 0.02347315 0.02709887 0.04025231]\n"
     ]
    }
   ],
   "source": [
    "# Feature Importance\n",
    "# Next, let's use Decision Tree to see variable importance\n",
    "from sklearn import metrics\n",
    "from sklearn.ensemble import ExtraTreesClassifier\n",
    "# fit an Extra Trees model to the data\n",
    "model = ExtraTreesClassifier()\n",
    "model.fit(data_mean.iloc[:,:data_mean.shape[1]-1], data_mean['target'])\n",
    "# display the relative importance of each attribute\n",
    "print(model.feature_importances_)\n"
   ]
  },
  {
   "cell_type": "code",
   "execution_count": 23,
   "metadata": {},
   "outputs": [],
   "source": [
    "import_df = pd.DataFrame(model.feature_importances_)\n",
    "import_df['variable'] = np.array(range(30)) + 1\n",
    "import_df.rename(columns ={0:'importance'},inplace=True)"
   ]
  },
  {
   "cell_type": "code",
   "execution_count": 24,
   "metadata": {},
   "outputs": [
    {
     "data": {
      "image/png": "[encoded data removed]",
      "text/plain": [
       "<Figure size 720x360 with 1 Axes>"
      ]
     },
     "metadata": {},
     "output_type": "display_data"
    }
   ],
   "source": [
    "from mpl_toolkits.axisartist.axislines import SubplotZero\n",
    "plt.close('all')\n",
    "plt.figure(figsize=(10,5))\n",
    "\n",
    "fig = plt.figure(1, (10, 6))\n",
    "\n",
    "ax = SubplotZero(fig, 1, 1, 1)\n",
    "\n",
    "fig.add_subplot(ax)\n",
    "\n",
    "plt.bar(import_df['variable'],import_df['importance'], alpha=1, width = 0.9, facecolor = 'skyblue',\n",
    "        edgecolor = 'white', label='one', lw=1)\n",
    "plt.xlabel('variable')\n",
    "plt.ylabel('importance')\n",
    "plt.title('Variable Importance')\n",
    "ax.set_xticks(import_df['variable'])\n",
    "\n",
    "plt.show()"
   ]
  },
  {
   "cell_type": "code",
   "execution_count": 25,
   "metadata": {
    "scrolled": false
   },
   "outputs": [],
   "source": [
    "# based on the "
   ]
  },
  {
   "cell_type": "code",
   "execution_count": 26,
   "metadata": {},
   "outputs": [],
   "source": [
    "# No.2 Lasso"
   ]
  },
  {
   "cell_type": "code",
   "execution_count": 29,
   "metadata": {},
   "outputs": [
    {
     "data": {
      "image/png": "[encoded data removed]",
      "text/plain": [
       "<Figure size 432x288 with 1 Axes>"
      ]
     },
     "metadata": {},
     "output_type": "display_data"
    },
    {
     "name": "stdout",
     "output_type": "stream",
     "text": [
      "\n",
      " models at different alpha values\n",
      "\n",
      "\t attributes include  [ 1  3  4  5  6  8  9 11 12 13 14 17 18 19 21 22 25 27]\n",
      "\t alpha =  0.0002\n",
      "\t mean squared error = 0.08\n",
      "\n",
      "\t attributes include  [ 1  4  5  8  9 12 13 17 18 21 22 25]\n",
      "\t alpha =  0.0004\n",
      "\t mean squared error = 0.08\n",
      "\n",
      "\t attributes include  [ 4  5  8 13 17 18 21 22]\n",
      "\t alpha =  0.0006\n",
      "\t mean squared error = 0.09\n",
      "\n"
     ]
    }
   ],
   "source": [
    "from sklearn.linear_model import Lasso, LinearRegression\n",
    "from sklearn.metrics import mean_squared_error\n",
    "import warnings\n",
    "\n",
    "warnings.filterwarnings('ignore')\n",
    "\n",
    "#建立模型\n",
    "def build_models(x,y):\n",
    "    alpha_range = np.linspace(0,0.001,50)\n",
    "    model = Lasso(normalize=True)\n",
    "    coeffiecients = []\n",
    "    for alpha in alpha_range:\n",
    "        model.set_params(alpha=alpha)\n",
    "        model.fit(x,y)\n",
    "        coeffiecients.append(model.coef_)\n",
    "    coeff_path(alpha_range,coeffiecients)\n",
    "#     view_model(model)\n",
    "    \n",
    "    \n",
    "#主函数调用,查看保留下来的回归系数有哪些\n",
    "def get_coef(x,y,alpha):\n",
    "    model = Lasso(normalize=True,alpha=alpha)\n",
    "    model.fit(x,y)\n",
    "    coefs = model.coef_\n",
    "    indices = [i for i,coef in enumerate(coefs) if abs(coef) > 0.0]\n",
    "    return indices\n",
    "# view regression efficient\n",
    "def view_model(model):\n",
    "    print(\"\\n model coeffiecients\")\n",
    "    print(\"======================\")\n",
    "    for i,coef in enumerate(model.coef_):\n",
    "        print(\"coefficient %d %0.3f\" % (i+1,coef))\n",
    "    print(\"\\n intercept %0.3f\" % (model.intercept_))\n",
    "    \n",
    "# assess model\n",
    "def model_worth(true_y,predicted_y):\n",
    "    print(\"\\t mean squared error = %0.2f\\n\" % (mean_squared_error(true_y,predicted_y)))\n",
    "\n",
    "#try different alpha\n",
    "def coeff_path(alpha_range,coeffiecients):\n",
    "     plt.close('all')\n",
    "     plt.cla()\n",
    "     plt.figure(1)\n",
    "     plt.xlabel(\"Alpha Values\")\n",
    "     plt.ylabel(\"coeffiecient weights for different alpha values\")\n",
    "     plt.plot(alpha_range,coeffiecients)\n",
    "     plt.axis('tight')\n",
    "     plt.show()\n",
    "\n",
    "x,y = data_mean.iloc[:,:data_mean.shape[1]-1], data_mean['target']\n",
    "build_models(x,y)\n",
    "\n",
    "print(\"\\n models at different alpha values\\n\")\n",
    "alpa_values = [0.0002,0.0004,0.0006]\n",
    "for alpha in alpa_values:\n",
    "    indices = get_coef(x,y,alpha) \n",
    "#     print(\"\\t alpha = %0.2f number of variables selected = %d %\", (alpha,len(indices)))\n",
    "    print(\"\\t attributes include \", np.array(indices)+ 1) \n",
    "    x_new = x.iloc[:,indices]\n",
    "    model = LinearRegression(normalize=True)\n",
    "    model.fit(x_new,y)\n",
    "    predicted_y = model.predict(x_new)\n",
    "    print('\\t alpha = ', alpha)\n",
    "    model_worth(y,predicted_y)\n"
   ]
  },
  {
   "cell_type": "code",
   "execution_count": 30,
   "metadata": {},
   "outputs": [],
   "source": [
    "# we could see with different alpha, the coefficents shrink quickly to zero. \n",
    "# here, we set different alpha, \n",
    "# and get remaining variables, also we could \n",
    "# compare different MSE to assess the model performance."
   ]
  },
  {
   "cell_type": "code",
   "execution_count": 31,
   "metadata": {},
   "outputs": [],
   "source": [
    "#Conclusion: When alpha = 0.002 or  0.004, the MSE are both 0.08, \n",
    "# we choose the one with less variables.\n",
    "# So, here, we use var_1, var_4, var_5,var_8, var_9, \n",
    "# var_12, var_13, var_17, var_18, var_21, var_22, var_25 as predicter\n"
   ]
  },
  {
   "cell_type": "code",
   "execution_count": 32,
   "metadata": {},
   "outputs": [
    {
     "name": "stdout",
     "output_type": "stream",
     "text": [
      "['var_2', 'var_5', 'var_6', 'var_9', 'var_10', 'var_13', 'var_14', 'var_18', 'var_19', 'var_22', 'var_23', 'var_26']\n"
     ]
    }
   ],
   "source": [
    "alpha = 0.0004\n",
    "indices = get_coef(x,y,alpha) \n",
    "best_subset_lasso = data_mean.columns[np.array(indices)+ 1].tolist()\n",
    "print(best_subset_lasso)"
   ]
  },
  {
   "cell_type": "markdown",
   "metadata": {
    "collapsed": true
   },
   "source": [
    "# Question 4 (15 points)"
   ]
  },
  {
   "cell_type": "code",
   "execution_count": 33,
   "metadata": {},
   "outputs": [],
   "source": [
    "# all predictor\n",
    "from sklearn.model_selection import train_test_split\n",
    "from sklearn.metrics import roc_curve, auc\n",
    "from sklearn.metrics import confusion_matrix"
   ]
  },
  {
   "cell_type": "code",
   "execution_count": 83,
   "metadata": {},
   "outputs": [],
   "source": [
    "# set a dataframe which will record the models' accuracies.\n",
    "acc_df = pd.DataFrame(columns=['model_name','accuracy'])\n",
    "model_list = pd.DataFrame(columns=['model'])"
   ]
  },
  {
   "cell_type": "code",
   "execution_count": 35,
   "metadata": {},
   "outputs": [],
   "source": [
    "from sklearn.linear_model.logistic import LogisticRegression\n",
    "lr = LogisticRegression() "
   ]
  },
  {
   "cell_type": "code",
   "execution_count": 40,
   "metadata": {},
   "outputs": [],
   "source": [
    "X_train, X_test, y_train, y_test = train_test_split(data_mean.drop('target',axis=1), \n",
    "                                                    data_mean['target'], test_size=0.3, random_state=0)"
   ]
  },
  {
   "cell_type": "code",
   "execution_count": 84,
   "metadata": {},
   "outputs": [],
   "source": [
    "def getROC(clf, columns, name):\n",
    "    predict_y_validation = clf.predict(X_test[columns]) #predict——proba()\n",
    "    # print accuracy\n",
    "    r = clf.score(X_test[columns],y_test)\n",
    "    print('Accuracy = ', r)\n",
    "    prob_predict_y_validation = clf.predict_proba(X_test[columns])\n",
    "    predictions_validation = prob_predict_y_validation[:, 1]\n",
    "    fpr, tpr, _ = roc_curve(y_test, predictions_validation)\n",
    "\n",
    "    roc_auc = auc(fpr, tpr)\n",
    "    plt.title('ROC Validation')\n",
    "    plt.plot(fpr, tpr, 'b', label='AUC ' + name+ '= %0.2f' % roc_auc)\n",
    "    plt.legend(loc='lower right')\n",
    "    plt.plot([0, 1], [0, 1], 'r--')\n",
    "    plt.xlim([0, 1])\n",
    "    plt.ylim([0, 1])\n",
    "    plt.ylabel('True Positive Rate')\n",
    "    plt.xlabel('False Positive Rate')\n",
    "#     plt.title(name)\n",
    "    return(roc_auc)\n",
    "\n",
    "def getacc(clf, columns):\n",
    "    predict_y_validation = clf.predict(X_test[columns]) #predict——proba()\n",
    "    # print accuracy\n",
    "    r = clf.score(X_test[columns],y_test)\n",
    "    return(r)\n",
    "    \n",
    "def getConfusionMatrix(clf, columns):\n",
    "    pred = clf.predict(X_test[columns])\n",
    "    cm = confusion_matrix(y_test,pred)\n",
    "    print(cm)\n",
    "    return(cm)\n",
    "\n",
    "def getSSF(cm):\n",
    "    sensitivity = cm[0,0]/sum(cm[0])\n",
    "    specificity = cm[1,1]/sum(cm[1])\n",
    "    precision = cm[0,0]/sum(cm[:,0])\n",
    "    recall = sensitivity\n",
    "    f1 = 2*precision*recall/(precision+recall)\n",
    "    print('sensitivity = ', sensitivity)\n",
    "    print('specificity = ', specificity)\n",
    "    print('f1 = ', f1)\n",
    "    return(sensitivity,specificity,f1)\n",
    "\n",
    "def insert_accdf(name, clf, columns):\n",
    "    acc_df.loc[acc_df.shape[0],:] = [name, getacc(clf, columns)]\n",
    "    insert_model(clf)\n",
    "    \n",
    "def insert_model(clf):\n",
    "    model_list.loc[model_list.shape[0],:] = clf"
   ]
  },
  {
   "cell_type": "code",
   "execution_count": 42,
   "metadata": {},
   "outputs": [],
   "source": [
    "q4_df = pd.DataFrame(np.random.randint(low=0, high=1, size=(3, 4)))\n",
    "plt.close('all')"
   ]
  },
  {
   "cell_type": "code",
   "execution_count": 43,
   "metadata": {},
   "outputs": [
    {
     "name": "stdout",
     "output_type": "stream",
     "text": [
      "[[1698   48]\n",
      " [ 134  220]]\n",
      "sensitivity =  0.9725085910652921\n",
      "specificity =  0.6214689265536724\n",
      "f1 =  0.9491335941866965\n",
      "Accuracy =  0.9133333333333333\n"
     ]
    }
   ],
   "source": [
    "lr_total = lr.fit(X_train,y_train)\n",
    "all_predictors_columns = data_mean.columns[:-1].tolist()\n",
    "cm = getConfusionMatrix(lr_total,all_predictors_columns)\n",
    "s1,s2,f1 = getSSF(cm)\n",
    "aucc = getROC(lr_total,data_mean.columns[:-1].tolist(),'All Predictor ROC')\n",
    "q4_df.loc[0,:]  = [aucc,s1,s2,f1]\n",
    "insert_accdf('Logistic Regression (All predictors)',\n",
    "             lr_total, all_predictors_columns)"
   ]
  },
  {
   "cell_type": "code",
   "execution_count": 44,
   "metadata": {},
   "outputs": [
    {
     "name": "stdout",
     "output_type": "stream",
     "text": [
      "[[1692   54]\n",
      " [ 163  191]]\n",
      "sensitivity =  0.9690721649484536\n",
      "specificity =  0.53954802259887\n",
      "f1 =  0.9397389613996112\n",
      "Accuracy =  0.8966666666666666\n"
     ]
    }
   ],
   "source": [
    "lr_total_1 = lr.fit(X_train[best_subset_1],y_train)\n",
    "cm = getConfusionMatrix(lr_total_1, best_subset_1)\n",
    "s1,s2,f1 = getSSF(cm)\n",
    "aucc = getROC(lr_total_1,best_subset_1,'Best Predictors(Other Methods)')\n",
    "q4_df.loc[2,:]  = [aucc,s1,s2,f1]\n",
    "insert_accdf('Logistic Regression(Best predictors)',lr_total_1, best_subset_1)"
   ]
  },
  {
   "cell_type": "code",
   "execution_count": 45,
   "metadata": {
    "scrolled": false
   },
   "outputs": [
    {
     "name": "stdout",
     "output_type": "stream",
     "text": [
      "[[1703   43]\n",
      " [ 185  169]]\n",
      "sensitivity =  0.9753722794959908\n",
      "specificity =  0.4774011299435028\n",
      "f1 =  0.9372592184920199\n",
      "Accuracy =  0.8914285714285715\n"
     ]
    }
   ],
   "source": [
    "lr_total_lasso = lr.fit(X_train[best_subset_lasso],y_train)\n",
    "cm = getConfusionMatrix(lr_total_lasso, best_subset_lasso)\n",
    "s1,s2,f1 = getSSF(cm)\n",
    "aucc = getROC(lr_total_lasso,best_subset_lasso, 'Best Prdictors(Lasso)')\n",
    "q4_df.loc[1,:]  = [aucc,s1,s2,f1]\n",
    "insert_accdf('Logistic Regression (Lasso)',\n",
    "             lr_total_lasso, best_subset_lasso)"
   ]
  },
  {
   "cell_type": "code",
   "execution_count": 46,
   "metadata": {},
   "outputs": [
    {
     "data": {
      "image/png": "[encoded data removed]",
      "text/plain": [
       "<Figure size 432x288 with 1 Axes>"
      ]
     },
     "metadata": {},
     "output_type": "display_data"
    }
   ],
   "source": [
    "plt.show()"
   ]
  },
  {
   "cell_type": "code",
   "execution_count": 47,
   "metadata": {
    "scrolled": true
   },
   "outputs": [
    {
     "data": {
      "text/html": [
       "<div>\n",
       "<style>\n",
       "    .dataframe thead tr:only-child th {\n",
       "        text-align: right;\n",
       "    }\n",
       "\n",
       "    .dataframe thead th {\n",
       "        text-align: left;\n",
       "    }\n",
       "\n",
       "    .dataframe tbody tr th {\n",
       "        vertical-align: top;\n",
       "    }\n",
       "</style>\n",
       "<table border=\"1\" class=\"dataframe\">\n",
       "  <thead>\n",
       "    <tr style=\"text-align: right;\">\n",
       "      <th></th>\n",
       "      <th>Logistic Regression</th>\n",
       "      <th>AUC</th>\n",
       "      <th>Sensitivity</th>\n",
       "      <th>Specificity</th>\n",
       "      <th>F1 Score</th>\n",
       "    </tr>\n",
       "  </thead>\n",
       "  <tbody>\n",
       "    <tr>\n",
       "      <th>0</th>\n",
       "      <td>All predictors</td>\n",
       "      <td>0.932205</td>\n",
       "      <td>0.972509</td>\n",
       "      <td>0.621469</td>\n",
       "      <td>0.949134</td>\n",
       "    </tr>\n",
       "    <tr>\n",
       "      <th>1</th>\n",
       "      <td>Best predictors (LASSO)</td>\n",
       "      <td>0.885195</td>\n",
       "      <td>0.975372</td>\n",
       "      <td>0.477401</td>\n",
       "      <td>0.937259</td>\n",
       "    </tr>\n",
       "    <tr>\n",
       "      <th>2</th>\n",
       "      <td>Best predictors (Other Method)</td>\n",
       "      <td>0.900620</td>\n",
       "      <td>0.969072</td>\n",
       "      <td>0.539548</td>\n",
       "      <td>0.939739</td>\n",
       "    </tr>\n",
       "  </tbody>\n",
       "</table>\n",
       "</div>"
      ],
      "text/plain": [
       "              Logistic Regression       AUC  Sensitivity  Specificity  \\\n",
       "0                  All predictors  0.932205     0.972509     0.621469   \n",
       "1         Best predictors (LASSO)  0.885195     0.975372     0.477401   \n",
       "2  Best predictors (Other Method)  0.900620     0.969072     0.539548   \n",
       "\n",
       "   F1 Score  \n",
       "0  0.949134  \n",
       "1  0.937259  \n",
       "2  0.939739  "
      ]
     },
     "execution_count": 47,
     "metadata": {},
     "output_type": "execute_result"
    }
   ],
   "source": [
    "q4_dict = {'Logistic Regression':['All predictors', 'Best predictors (LASSO)', \n",
    "                         'Best predictors (Other Method)'],\n",
    "           'AUC':q4_df[0],\n",
    "           'Sensitivity':q4_df[1],\n",
    "           'Specificity':q4_df[2],\n",
    "            'F1 Score':q4_df[3]}\n",
    "order = ['Logistic Regression', 'AUC', 'Sensitivity', 'Specificity', 'F1 Score']\n",
    "q4_result =  pd.DataFrame(q4_dict)[order]\n",
    "q4_result"
   ]
  },
  {
   "cell_type": "markdown",
   "metadata": {},
   "source": [
    "# Question 5 (15 points)"
   ]
  },
  {
   "cell_type": "code",
   "execution_count": 48,
   "metadata": {},
   "outputs": [],
   "source": [
    "from sklearn.ensemble import RandomForestClassifier"
   ]
  },
  {
   "cell_type": "code",
   "execution_count": 49,
   "metadata": {},
   "outputs": [
    {
     "name": "stdout",
     "output_type": "stream",
     "text": [
      "[ True False False  True  True False False  True  True  True False False\n",
      "  True False False False  True  True False  True False  True False False\n",
      " False False False False False  True]\n",
      "[ 1 11 12  1  1  8  2  1  1  1  4 13  1  3 10 19  1  1  5  1 16  1 17  9\n",
      "  7 15 14 18  6  1]\n",
      "['var_1', 'var_4', 'var_5', 'var_8', 'var_9', 'var_10', 'var_13', 'var_17', 'var_18', 'var_20', 'var_22', 'var_30']\n"
     ]
    }
   ],
   "source": [
    "model_rf = RandomForestClassifier()\n",
    "# create the RFE model and select 3 attributes\n",
    "rfe = RFE(model_rf, 12)\n",
    "rfe = rfe.fit(data_mean.iloc[:,:data_mean.shape[1]-1], data_mean['target'])\n",
    "# summarize the selection of the attributes\n",
    "print(rfe.support_)\n",
    "print(rfe.ranking_)\n",
    "best_subset_rf = data_mean.columns[np.where(rfe.support_ == True)].tolist()\n",
    "print(best_subset_rf)"
   ]
  },
  {
   "cell_type": "code",
   "execution_count": 50,
   "metadata": {},
   "outputs": [],
   "source": [
    "q5_df = pd.DataFrame(np.random.randint(low=0, high=1, size=(4, 4)))\n",
    "plt.close('all')"
   ]
  },
  {
   "cell_type": "code",
   "execution_count": 51,
   "metadata": {},
   "outputs": [
    {
     "name": "stdout",
     "output_type": "stream",
     "text": [
      "[[1734   12]\n",
      " [ 166  188]]\n",
      "sensitivity =  0.993127147766323\n",
      "specificity =  0.5310734463276836\n",
      "f1 =  0.9511793746571586\n",
      "Accuracy =  0.9152380952380952\n"
     ]
    }
   ],
   "source": [
    "rf_total = model_rf.fit(X_train,y_train)\n",
    "cm = getConfusionMatrix(rf_total, all_predictors_columns)\n",
    "s1,s2,f1 = getSSF(cm)\n",
    "aucc = getROC(rf_total,data_mean.columns[:-1].tolist(), \"All predictors\")\n",
    "q5_df.loc[0,:]  = [aucc,s1,s2,f1]\n",
    "insert_accdf('RandomForest (All predictors)',rf_total, all_predictors_columns)"
   ]
  },
  {
   "cell_type": "code",
   "execution_count": 52,
   "metadata": {},
   "outputs": [
    {
     "name": "stdout",
     "output_type": "stream",
     "text": [
      "[[1725   21]\n",
      " [ 188  166]]\n",
      "sensitivity =  0.9879725085910653\n",
      "specificity =  0.4689265536723164\n",
      "f1 =  0.9428805684613282\n",
      "Accuracy =  0.9004761904761904\n"
     ]
    }
   ],
   "source": [
    "rf_total_lasso = model_rf.fit(X_train[best_subset_lasso],y_train)\n",
    "cm = getConfusionMatrix(rf_total_lasso, best_subset_lasso)\n",
    "s1,s2,f1 = getSSF(cm)\n",
    "aucc = getROC(rf_total_lasso,best_subset_lasso,'Best predictors (LASSO)')\n",
    "q5_df.loc[1,:]  = [aucc,s1,s2,f1]\n",
    "insert_accdf('RandomForest (Lasso)',rf_total_lasso, best_subset_lasso)"
   ]
  },
  {
   "cell_type": "code",
   "execution_count": 53,
   "metadata": {},
   "outputs": [
    {
     "name": "stdout",
     "output_type": "stream",
     "text": [
      "[[1712   34]\n",
      " [ 208  146]]\n",
      "sensitivity =  0.9805269186712485\n",
      "specificity =  0.4124293785310734\n",
      "f1 =  0.9339879978177851\n",
      "Accuracy =  0.8847619047619047\n"
     ]
    }
   ],
   "source": [
    "rf_total_1 = model_rf.fit(X_train[best_subset_1],y_train)\n",
    "cm = getConfusionMatrix(rf_total_1, best_subset_1)\n",
    "s1,s2,f1 = getSSF(cm)\n",
    "aucc = getROC(rf_total_1,best_subset_1,'Best Predictors(Other Methods)')\n",
    "q5_df.loc[2,:]  = [aucc,s1,s2,f1]\n",
    "insert_accdf('RandomForest (Best predictors)',rf_total_1, best_subset_1)"
   ]
  },
  {
   "cell_type": "code",
   "execution_count": 54,
   "metadata": {
    "scrolled": false
   },
   "outputs": [
    {
     "name": "stdout",
     "output_type": "stream",
     "text": [
      "[[1731   15]\n",
      " [ 164  190]]\n",
      "sensitivity =  0.9914089347079038\n",
      "specificity =  0.536723163841808\n",
      "f1 =  0.9508376819555067\n",
      "Accuracy =  0.9147619047619048\n"
     ]
    }
   ],
   "source": [
    "rf_total_rf = model_rf.fit(X_train[best_subset_rf],y_train)\n",
    "cm = getConfusionMatrix(rf_total_rf, best_subset_rf)\n",
    "s1,s2,f1 = getSSF(cm)\n",
    "aucc = getROC(rf_total_rf,best_subset_rf, 'Best Predictors(Variable Importance)')\n",
    "q5_df.loc[3,:]  = [aucc,s1,s2,f1]\n",
    "insert_accdf('RandomForest (variable importance)',rf_total_rf, best_subset_rf)"
   ]
  },
  {
   "cell_type": "code",
   "execution_count": 55,
   "metadata": {},
   "outputs": [
    {
     "data": {
      "image/png": "[encoded data removed]",
      "text/plain": [
       "<Figure size 432x288 with 1 Axes>"
      ]
     },
     "metadata": {},
     "output_type": "display_data"
    }
   ],
   "source": [
    "plt.show()"
   ]
  },
  {
   "cell_type": "code",
   "execution_count": 56,
   "metadata": {},
   "outputs": [
    {
     "data": {
      "text/html": [
       "<div>\n",
       "<style>\n",
       "    .dataframe thead tr:only-child th {\n",
       "        text-align: right;\n",
       "    }\n",
       "\n",
       "    .dataframe thead th {\n",
       "        text-align: left;\n",
       "    }\n",
       "\n",
       "    .dataframe tbody tr th {\n",
       "        vertical-align: top;\n",
       "    }\n",
       "</style>\n",
       "<table border=\"1\" class=\"dataframe\">\n",
       "  <thead>\n",
       "    <tr style=\"text-align: right;\">\n",
       "      <th></th>\n",
       "      <th>RandomForest</th>\n",
       "      <th>AUC</th>\n",
       "      <th>Sensitivity</th>\n",
       "      <th>Specificity</th>\n",
       "      <th>F1 Score</th>\n",
       "    </tr>\n",
       "  </thead>\n",
       "  <tbody>\n",
       "    <tr>\n",
       "      <th>0</th>\n",
       "      <td>All predictors</td>\n",
       "      <td>0.945773</td>\n",
       "      <td>0.993127</td>\n",
       "      <td>0.531073</td>\n",
       "      <td>0.951179</td>\n",
       "    </tr>\n",
       "    <tr>\n",
       "      <th>1</th>\n",
       "      <td>Best predictors (LASSO)</td>\n",
       "      <td>0.886719</td>\n",
       "      <td>0.987973</td>\n",
       "      <td>0.468927</td>\n",
       "      <td>0.942881</td>\n",
       "    </tr>\n",
       "    <tr>\n",
       "      <th>2</th>\n",
       "      <td>Best predictors (Other Method)</td>\n",
       "      <td>0.880927</td>\n",
       "      <td>0.980527</td>\n",
       "      <td>0.412429</td>\n",
       "      <td>0.933988</td>\n",
       "    </tr>\n",
       "    <tr>\n",
       "      <th>3</th>\n",
       "      <td>Best predictors (Variable Importance)</td>\n",
       "      <td>0.927185</td>\n",
       "      <td>0.991409</td>\n",
       "      <td>0.536723</td>\n",
       "      <td>0.950838</td>\n",
       "    </tr>\n",
       "  </tbody>\n",
       "</table>\n",
       "</div>"
      ],
      "text/plain": [
       "                            RandomForest       AUC  Sensitivity  Specificity  \\\n",
       "0                         All predictors  0.945773     0.993127     0.531073   \n",
       "1                Best predictors (LASSO)  0.886719     0.987973     0.468927   \n",
       "2         Best predictors (Other Method)  0.880927     0.980527     0.412429   \n",
       "3  Best predictors (Variable Importance)  0.927185     0.991409     0.536723   \n",
       "\n",
       "   F1 Score  \n",
       "0  0.951179  \n",
       "1  0.942881  \n",
       "2  0.933988  \n",
       "3  0.950838  "
      ]
     },
     "execution_count": 56,
     "metadata": {},
     "output_type": "execute_result"
    }
   ],
   "source": [
    "q5_dict = {'RandomForest':['All predictors', 'Best predictors (LASSO)', \n",
    "                         'Best predictors (Other Method)','Best predictors (Variable Importance)'],\n",
    "           'AUC':q5_df[0],\n",
    "           'Sensitivity':q5_df[1],\n",
    "           'Specificity':q5_df[2],\n",
    "            'F1 Score':q5_df[3]}\n",
    "order = ['RandomForest', 'AUC', 'Sensitivity', 'Specificity', 'F1 Score']\n",
    "q5_result =  pd.DataFrame(q5_dict)[order]\n",
    "q5_result"
   ]
  },
  {
   "cell_type": "markdown",
   "metadata": {},
   "source": [
    "# Question 6 (15 points)"
   ]
  },
  {
   "cell_type": "code",
   "execution_count": 57,
   "metadata": {},
   "outputs": [],
   "source": [
    "from sklearn.model_selection import cross_val_score\n",
    "from sklearn.model_selection import GridSearchCV\n",
    "from sklearn.metrics import classification_report"
   ]
  },
  {
   "cell_type": "code",
   "execution_count": 85,
   "metadata": {},
   "outputs": [
    {
     "name": "stdout",
     "output_type": "stream",
     "text": [
      "Parameters:{'n_estimators': [100, 400, 800], 'max_features': [6, 12, 25, 30]}\n",
      "Test set score:0.94\n",
      "Best parameters:{'max_features': 25, 'n_estimators': 100}\n",
      "Best score on train set:0.94\n"
     ]
    }
   ],
   "source": [
    "# param_grid = {\"n_estimators\": [100,400,800],\n",
    "#               \"max_features\": [6, 12,25,30]}\n",
    "# print(\"Parameters:{}\".format(param_grid))\n",
    "\n",
    "# #Create a GridSearchCV object\n",
    "# grid_search = GridSearchCV(RandomForestClassifier(),param_grid,cv=5)\n",
    "# grid_search.fit(X_train,y_train)\n",
    "# print(\"Test set score:{:.2f}\".format(grid_search.score(X_test,y_test)))\n",
    "# print(\"Best parameters:{}\".format(grid_search.best_params_)) n\n",
    "# print(\"Best score on train set:{:.2f}\".format(grid_search.best_score_))"
   ]
  },
  {
   "cell_type": "code",
   "execution_count": 59,
   "metadata": {},
   "outputs": [],
   "source": [
    "# Based on the result from gridsearch, \n",
    "# we find the best n_estimators = 25, and best max_features = 100"
   ]
  },
  {
   "cell_type": "code",
   "execution_count": 86,
   "metadata": {},
   "outputs": [],
   "source": [
    "rf_best_model = RandomForestClassifier(n_estimators = 25, max_features = 100)"
   ]
  },
  {
   "cell_type": "code",
   "execution_count": 92,
   "metadata": {},
   "outputs": [
    {
     "name": "stdout",
     "output_type": "stream",
     "text": [
      "[[1736   10]\n",
      " [ 155  199]]\n",
      "sensitivity =  0.9942726231386025\n",
      "specificity =  0.5621468926553672\n",
      "f1 =  0.9546329392356336\n",
      "Accuracy =  0.9214285714285714\n"
     ]
    }
   ],
   "source": [
    "q6_df = q5_df\n",
    "rf_total_rf = model_rf.fit(X_train,y_train)\n",
    "cm = getConfusionMatrix(rf_total_rf,all_predictors_columns)\n",
    "s1,s2,f1 = getSSF(cm)\n",
    "aucc = getROC(rf_total_rf,data_mean.columns[:-1].tolist(),'All Predictors')\n",
    "q6_df.loc[4,:]  = [aucc,s1,s2,f1]\n",
    "insert_accdf('RandomForest (Hyperpara Tuned)',\n",
    "             rf_total_rf, all_predictors_columns)"
   ]
  },
  {
   "cell_type": "code",
   "execution_count": 93,
   "metadata": {},
   "outputs": [],
   "source": [
    "q6_result = q5_result\n",
    "q6_row = ['Hyperparameter Tuned Model']+ q6_df.loc[4,:].tolist()\n",
    "q6_result.loc[4] = q6_row"
   ]
  },
  {
   "cell_type": "code",
   "execution_count": 94,
   "metadata": {},
   "outputs": [
    {
     "data": {
      "text/html": [
       "<div>\n",
       "<style>\n",
       "    .dataframe thead tr:only-child th {\n",
       "        text-align: right;\n",
       "    }\n",
       "\n",
       "    .dataframe thead th {\n",
       "        text-align: left;\n",
       "    }\n",
       "\n",
       "    .dataframe tbody tr th {\n",
       "        vertical-align: top;\n",
       "    }\n",
       "</style>\n",
       "<table border=\"1\" class=\"dataframe\">\n",
       "  <thead>\n",
       "    <tr style=\"text-align: right;\">\n",
       "      <th></th>\n",
       "      <th>RandomForest</th>\n",
       "      <th>AUC</th>\n",
       "      <th>Sensitivity</th>\n",
       "      <th>Specificity</th>\n",
       "      <th>F1 Score</th>\n",
       "    </tr>\n",
       "  </thead>\n",
       "  <tbody>\n",
       "    <tr>\n",
       "      <th>0</th>\n",
       "      <td>All predictors</td>\n",
       "      <td>0.945773</td>\n",
       "      <td>0.993127</td>\n",
       "      <td>0.531073</td>\n",
       "      <td>0.951179</td>\n",
       "    </tr>\n",
       "    <tr>\n",
       "      <th>1</th>\n",
       "      <td>Best predictors (LASSO)</td>\n",
       "      <td>0.886719</td>\n",
       "      <td>0.987973</td>\n",
       "      <td>0.468927</td>\n",
       "      <td>0.942881</td>\n",
       "    </tr>\n",
       "    <tr>\n",
       "      <th>2</th>\n",
       "      <td>Best predictors (Other Method)</td>\n",
       "      <td>0.880927</td>\n",
       "      <td>0.980527</td>\n",
       "      <td>0.412429</td>\n",
       "      <td>0.933988</td>\n",
       "    </tr>\n",
       "    <tr>\n",
       "      <th>3</th>\n",
       "      <td>Best predictors (Variable Importance)</td>\n",
       "      <td>0.927185</td>\n",
       "      <td>0.991409</td>\n",
       "      <td>0.536723</td>\n",
       "      <td>0.950838</td>\n",
       "    </tr>\n",
       "    <tr>\n",
       "      <th>4</th>\n",
       "      <td>Hyperparameter Tuned Model</td>\n",
       "      <td>0.952739</td>\n",
       "      <td>0.994273</td>\n",
       "      <td>0.562147</td>\n",
       "      <td>0.954633</td>\n",
       "    </tr>\n",
       "  </tbody>\n",
       "</table>\n",
       "</div>"
      ],
      "text/plain": [
       "                            RandomForest       AUC  Sensitivity  Specificity  \\\n",
       "0                         All predictors  0.945773     0.993127     0.531073   \n",
       "1                Best predictors (LASSO)  0.886719     0.987973     0.468927   \n",
       "2         Best predictors (Other Method)  0.880927     0.980527     0.412429   \n",
       "3  Best predictors (Variable Importance)  0.927185     0.991409     0.536723   \n",
       "4             Hyperparameter Tuned Model  0.952739     0.994273     0.562147   \n",
       "\n",
       "   F1 Score  \n",
       "0  0.951179  \n",
       "1  0.942881  \n",
       "2  0.933988  \n",
       "3  0.950838  \n",
       "4  0.954633  "
      ]
     },
     "execution_count": 94,
     "metadata": {},
     "output_type": "execute_result"
    }
   ],
   "source": [
    "q6_result"
   ]
  },
  {
   "cell_type": "markdown",
   "metadata": {},
   "source": [
    "# Question 7 (15 points)"
   ]
  },
  {
   "cell_type": "code",
   "execution_count": 142,
   "metadata": {},
   "outputs": [],
   "source": [
    "from sklearn.svm import SVC"
   ]
  },
  {
   "cell_type": "code",
   "execution_count": 143,
   "metadata": {},
   "outputs": [],
   "source": [
    "q7_df = pd.DataFrame(np.random.randint(low=0, high=1, size=(6, 4)))\n",
    "# plt.close('all')"
   ]
  },
  {
   "cell_type": "code",
   "execution_count": 144,
   "metadata": {},
   "outputs": [],
   "source": [
    "# All predictors"
   ]
  },
  {
   "cell_type": "code",
   "execution_count": 145,
   "metadata": {},
   "outputs": [
    {
     "name": "stdout",
     "output_type": "stream",
     "text": [
      "[[1715   31]\n",
      " [ 140  214]]\n",
      "sensitivity =  0.9822451317296678\n",
      "specificity =  0.6045197740112994\n",
      "f1 =  0.9525131907803387\n",
      "Accuracy =  0.9185714285714286\n"
     ]
    }
   ],
   "source": [
    "model_svc_Linear = SVC(kernel = 'linear',probability=True)\n",
    "svc_linear_total = model_svc_Linear.fit(X_train,y_train)\n",
    "cm = getConfusionMatrix(svc_linear_total, all_predictors_columns)\n",
    "s1,s2,f1 = getSSF(cm)\n",
    "aucc = getROC(svc_linear_total,all_predictors_columns,'ALL Linear')\n",
    "q7_df.loc[0,:]  = [aucc,s1,s2,f1]\n",
    "insert_accdf('SVC (Linear All)',svc_linear_total, all_predictors_columns)"
   ]
  },
  {
   "cell_type": "code",
   "execution_count": 146,
   "metadata": {},
   "outputs": [
    {
     "name": "stdout",
     "output_type": "stream",
     "text": [
      "[[1667   79]\n",
      " [  72  282]]\n",
      "sensitivity =  0.95475372279496\n",
      "specificity =  0.7966101694915254\n",
      "f1 =  0.9566714490674318\n",
      "Accuracy =  0.9280952380952381\n"
     ]
    }
   ],
   "source": [
    "model_svc_Polynomial = SVC(kernel = 'poly',probability=True)\n",
    "svc_poly_total = model_svc_Polynomial.fit(X_train,y_train)\n",
    "cm = getConfusionMatrix(svc_poly_total, data_mean.columns[:-1].tolist())\n",
    "s1,s2,f1 = getSSF(cm)\n",
    "aucc = getROC(svc_poly_total,data_mean.columns[:-1].tolist(),'ALL Polynomial')\n",
    "q7_df.loc[1,:]  = [aucc,s1,s2,f1]\n",
    "insert_accdf('SVC (Polynomial All)',model_svc_Polynomial, all_predictors_columns)"
   ]
  },
  {
   "cell_type": "code",
   "execution_count": 147,
   "metadata": {},
   "outputs": [
    {
     "name": "stdout",
     "output_type": "stream",
     "text": [
      "[[1746    0]\n",
      " [ 354    0]]\n",
      "sensitivity =  1.0\n",
      "specificity =  0.0\n",
      "f1 =  0.90795631825273\n",
      "Accuracy =  0.8314285714285714\n"
     ]
    }
   ],
   "source": [
    "model_svc_Radial = SVC(kernel = 'rbf',probability=True)\n",
    "svc_rbf_total = model_svc_Radial.fit(X_train,y_train)\n",
    "cm = getConfusionMatrix(svc_rbf_total, all_predictors_columns)\n",
    "s1,s2,f1 = getSSF(cm)\n",
    "aucc = getROC(svc_rbf_total,all_predictors_columns,'ALL Radial')\n",
    "q7_df.loc[2,:]  = [aucc,s1,s2,f1]\n",
    "insert_accdf('SVC (RBF All)',svc_rbf_total, all_predictors_columns)"
   ]
  },
  {
   "cell_type": "code",
   "execution_count": 148,
   "metadata": {},
   "outputs": [],
   "source": [
    "# Lasso Predictors"
   ]
  },
  {
   "cell_type": "code",
   "execution_count": null,
   "metadata": {},
   "outputs": [],
   "source": [
    "svc_linear_lasso = model_svc_Linear.fit(X_train[best_subset_lasso],y_train)\n",
    "cm = getConfusionMatrix(svc_linear_lasso, best_subset_lasso)\n",
    "s1,s2,f1 = getSSF(cm)\n",
    "aucc = getROC(svc_linear_lasso,best_subset_lasso,'Lasso Linear')\n",
    "q7_df.loc[3,:]  = [aucc,s1,s2,f1]\n",
    "insert_accdf('SVC (linear Lasso)',svc_linear_lasso, best_subset_lasso)"
   ]
  },
  {
   "cell_type": "code",
   "execution_count": null,
   "metadata": {},
   "outputs": [],
   "source": [
    "svc_poly_lasso = model_svc_Polynomial.fit(X_train[best_subset_lasso],y_train)\n",
    "cm = getConfusionMatrix(svc_poly_lasso, best_subset_lasso)\n",
    "s1,s2,f1 = getSSF(cm)\n",
    "aucc = getROC(svc_poly_lasso,best_subset_lasso,'Lasso Polynomial')\n",
    "q7_df.loc[4,:]  = [aucc,s1,s2,f1]\n",
    "insert_accdf('SVC (poly Lasso)',svc_poly_lasso, best_subset_lasso)"
   ]
  },
  {
   "cell_type": "code",
   "execution_count": null,
   "metadata": {},
   "outputs": [],
   "source": [
    "svc_rbf_lasso = model_svc_Radial.fit(X_train[best_subset_lasso],y_train)\n",
    "cm = getConfusionMatrix(svc_rbf_lasso, best_subset_lasso)\n",
    "s1,s2,f1 = getSSF(cm)\n",
    "aucc = getROC(svc_rbf_lasso,best_subset_lasso,'Lasso Radial')\n",
    "q7_df.loc[5,:]  = [aucc,s1,s2,f1]\n",
    "insert_accdf('SVC (RBF Lasso)',svc_rbf_lasso, best_subset_lasso)"
   ]
  },
  {
   "cell_type": "code",
   "execution_count": null,
   "metadata": {},
   "outputs": [],
   "source": [
    "q7_dict = {'SVC':['All predictors (Linear Kernel)', \n",
    "                  'All predictors (Polynomial Kernel)', \n",
    "                  'All predictors (Radial Kernel)',\n",
    "                  'Best predictors (LASSO, Linear Kernel)',\n",
    "                  'Best predictors (LASSO, Polynomial Kernel)',\n",
    "                  'Best predictors (LASSO, Radial Kernel)'],\n",
    "           'AUC':q7_df[0],\n",
    "           'Sensitivity':q7_df[1],\n",
    "           'Specificity':q7_df[2],\n",
    "            'F1 Score':q7_df[3]}\n",
    "order = ['RandomForest', 'AUC', 'Sensitivity', 'Specificity', 'F1 Score']\n",
    "q7_result =  pd.DataFrame(q7_dict)[order]\n",
    "q7_result"
   ]
  },
  {
   "cell_type": "markdown",
   "metadata": {},
   "source": [
    "# Question 8 (Evaluation of Models on Ground Truth) (10 points)"
   ]
  },
  {
   "cell_type": "code",
   "execution_count": null,
   "metadata": {},
   "outputs": [],
   "source": [
    "feature_test = pd.read_csv(\"./feature_test.csv\")\n",
    "feature_test.drop(feature_test.columns[0],axis=1,inplace=True)\n",
    "print(feature_test.shape)\n",
    "feature_test.head()"
   ]
  },
  {
   "cell_type": "code",
   "execution_count": null,
   "metadata": {},
   "outputs": [],
   "source": [
    "for i in feature_test.columns:\n",
    "    feature_test[i] = feature_test[i].fillna(feature_test[i].mean())\n",
    "feature_test.head()"
   ]
  },
  {
   "cell_type": "code",
   "execution_count": 96,
   "metadata": {},
   "outputs": [
    {
     "data": {
      "text/html": [
       "<div>\n",
       "<style>\n",
       "    .dataframe thead tr:only-child th {\n",
       "        text-align: right;\n",
       "    }\n",
       "\n",
       "    .dataframe thead th {\n",
       "        text-align: left;\n",
       "    }\n",
       "\n",
       "    .dataframe tbody tr th {\n",
       "        vertical-align: top;\n",
       "    }\n",
       "</style>\n",
       "<table border=\"1\" class=\"dataframe\">\n",
       "  <thead>\n",
       "    <tr style=\"text-align: right;\">\n",
       "      <th></th>\n",
       "      <th>model_name</th>\n",
       "      <th>accuracy</th>\n",
       "    </tr>\n",
       "  </thead>\n",
       "  <tbody>\n",
       "    <tr>\n",
       "      <th>0</th>\n",
       "      <td>RandomForest (Hyperpara Tuned)</td>\n",
       "      <td>0.92381</td>\n",
       "    </tr>\n",
       "    <tr>\n",
       "      <th>1</th>\n",
       "      <td>RandomForest (Hyperpara Tuned)</td>\n",
       "      <td>0.914762</td>\n",
       "    </tr>\n",
       "    <tr>\n",
       "      <th>2</th>\n",
       "      <td>RandomForest (Hyperpara Tuned)</td>\n",
       "      <td>0.914762</td>\n",
       "    </tr>\n",
       "    <tr>\n",
       "      <th>3</th>\n",
       "      <td>RandomForest (Hyperpara Tuned)</td>\n",
       "      <td>0.917143</td>\n",
       "    </tr>\n",
       "    <tr>\n",
       "      <th>4</th>\n",
       "      <td>RandomForest (Hyperpara Tuned)</td>\n",
       "      <td>0.921429</td>\n",
       "    </tr>\n",
       "  </tbody>\n",
       "</table>\n",
       "</div>"
      ],
      "text/plain": [
       "                       model_name  accuracy\n",
       "0  RandomForest (Hyperpara Tuned)   0.92381\n",
       "1  RandomForest (Hyperpara Tuned)  0.914762\n",
       "2  RandomForest (Hyperpara Tuned)  0.914762\n",
       "3  RandomForest (Hyperpara Tuned)  0.917143\n",
       "4  RandomForest (Hyperpara Tuned)  0.921429"
      ]
     },
     "execution_count": 96,
     "metadata": {},
     "output_type": "execute_result"
    }
   ],
   "source": [
    "acc_df"
   ]
  },
  {
   "cell_type": "code",
   "execution_count": 73,
   "metadata": {},
   "outputs": [
    {
     "data": {
      "image/png": "[encoded data removed]",
      "text/plain": [
       "<Figure size 432x288 with 1 Axes>"
      ]
     },
     "metadata": {},
     "output_type": "display_data"
    }
   ],
   "source": [
    "plt.close('all')\n",
    "plt.bar(acc_df.index,acc_df['accuracy'])\n",
    "plt.ylim(0.85,0.95)\n",
    "plt.title('Accuracy Chart')\n",
    "plt.ylabel('Accuracy')\n",
    "plt.show()"
   ]
  },
  {
   "cell_type": "code",
   "execution_count": null,
   "metadata": {},
   "outputs": [],
   "source": []
  },
  {
   "cell_type": "code",
   "execution_count": null,
   "metadata": {},
   "outputs": [],
   "source": []
  },
  {
   "cell_type": "code",
   "execution_count": null,
   "metadata": {},
   "outputs": [],
   "source": []
  },
  {
   "cell_type": "markdown",
   "metadata": {},
   "source": [
    "# Question 9 (Summary/Recommendations) (10 points)"
   ]
  },
  {
   "cell_type": "code",
   "execution_count": null,
   "metadata": {},
   "outputs": [],
   "source": []
  }
 ],
 "metadata": {
  "kernelspec": {
   "display_name": "Python 3",
   "language": "python",
   "name": "python3"
  },
  "language_info": {
   "codemirror_mode": {
    "name": "ipython",
    "version": 3
   },
   "file_extension": ".py",
   "mimetype": "text/x-python",
   "name": "python",
   "nbconvert_exporter": "python",
   "pygments_lexer": "ipython3",
   "version": "3.6.3"
  }
 },
 "nbformat": 4,
 "nbformat_minor": 2
}
